{
  "nbformat": 4,
  "nbformat_minor": 0,
  "metadata": {
    "colab": {
      "provenance": []
    },
    "kernelspec": {
      "name": "python3",
      "display_name": "Python 3"
    },
    "language_info": {
      "name": "python"
    }
  },
  "cells": [
    {
      "cell_type": "code",
      "source": [
        "#---------------------------------------------------------------------- GeoWatch Tower ----------------------------------------------------------------------------------------#\n"
      ],
      "metadata": {
        "id": "IQV-YNFJTHgt"
      },
      "execution_count": null,
      "outputs": []
    },
    {
      "cell_type": "code",
      "execution_count": null,
      "metadata": {
        "id": "OtiO5oo_R0KD"
      },
      "outputs": [],
      "source": [
        "#--------------------------------- PIP INSTALLS ----------------------------------\n",
        "!pip install neo4j\n",
        "!pip install geopy\n",
        "!pip install requests\n",
        "!pip install scikit-learn\n",
        "!pip install pandas\n",
        "!pip install networkx\n"
      ]
    },
    {
      "cell_type": "code",
      "source": [
        "# --------------------------- config.py ----------------------------------\n",
        "NEO4J_URI = \"bolt://localhost:7687\"\n",
        "NEO4J_USER = \"neo4j\"\n",
        "NEO4J_PASSWORD = \"your_password\"\n",
        "\n",
        "IP_LOOKUP_API = \"https://api.ipgeolocation.io/ipgeo\"\n",
        "IP_LOOKUP_API_KEY = \"your_api_key\"\n",
        "\n",
        "HONEYPOT_SECRET_URLS = [\"/free-gift\", \"/exclusive-offer\", \"/click-here-now\"]\n",
        "SUSPICIOUS_SPEED_THRESHOLD_KMH = 1000\n"
      ],
      "metadata": {
        "id": "OhuCtCaeSLr6"
      },
      "execution_count": null,
      "outputs": []
    },
    {
      "cell_type": "code",
      "source": [
        "# -------------------------------------- geo_enrichment.py -----------------------------------\n",
        "import requests\n",
        "from config import IP_LOOKUP_API, IP_LOOKUP_API_KEY\n",
        "\n",
        "def enrich_ip(ip_address):\n",
        "    params = {\n",
        "        'apiKey': IP_LOOKUP_API_KEY,\n",
        "        'ip': ip_address\n",
        "    }\n",
        "    try:\n",
        "        response = requests.get(IP_LOOKUP_API, params=params)\n",
        "        data = response.json()\n",
        "        return {\n",
        "            'ip': ip_address,\n",
        "            'latitude': float(data.get('latitude', 0)),\n",
        "            'longitude': float(data.get('longitude', 0)),\n",
        "            'country': data.get('country_name', ''),\n",
        "            'timezone': data.get('time_zone', {}).get('name', '')\n",
        "        }\n",
        "    except Exception as e:\n",
        "        print(f\"Geo enrichment failed for {ip_address}: {e}\")\n",
        "        return None\n"
      ],
      "metadata": {
        "id": "fp3X0mtSSYDI"
      },
      "execution_count": null,
      "outputs": []
    },
    {
      "cell_type": "code",
      "source": [
        "# -------------------------------------- behavior_analysis.py ------------------------------------\n",
        "from geopy.distance import geodesic\n",
        "from config import SUSPICIOUS_SPEED_THRESHOLD_KMH\n",
        "\n",
        "def calculate_speed_kmh(prev_location, curr_location, time_diff_hours):\n",
        "    distance_km = geodesic(\n",
        "        (prev_location['latitude'], prev_location['longitude']),\n",
        "        (curr_location['latitude'], curr_location['longitude'])\n",
        "    ).km\n",
        "    if time_diff_hours == 0:\n",
        "        return float('inf')\n",
        "    return distance_km / time_diff_hours\n",
        "\n",
        "def detect_impossible_travel(user_sessions):\n",
        "    for i in range(1, len(user_sessions)):\n",
        "        prev = user_sessions[i-1]\n",
        "        curr = user_sessions[i]\n",
        "        time_diff = (curr['timestamp'] - prev['timestamp']).total_seconds() / 3600.0\n",
        "        speed = calculate_speed_kmh(prev['location'], curr['location'], time_diff)\n",
        "        if speed > SUSPICIOUS_SPEED_THRESHOLD_KMH:\n",
        "            return True\n",
        "    return False\n"
      ],
      "metadata": {
        "id": "UGsL60WASjfI"
      },
      "execution_count": null,
      "outputs": []
    },
    {
      "cell_type": "code",
      "source": [
        "# --------------------------------------------- graph_analysis.py ----------------------------------------\n",
        "from neo4j import GraphDatabase\n",
        "from config import NEO4J_URI, NEO4J_USER, NEO4J_PASSWORD\n",
        "\n",
        "class GraphManager:\n",
        "    def __init__(self):\n",
        "        self.driver = GraphDatabase.driver(NEO4J_URI, auth=(NEO4J_USER, NEO4J_PASSWORD))\n",
        "\n",
        "    def close(self):\n",
        "        self.driver.close()\n",
        "\n",
        "    def create_user_node(self, user_id, location):\n",
        "        with self.driver.session() as session:\n",
        "            session.run(\n",
        "                \"MERGE (u:User {id: $user_id}) SET u.latitude = $latitude, u.longitude = $longitude\",\n",
        "                user_id=user_id,\n",
        "                latitude=location['latitude'],\n",
        "                longitude=location['longitude']\n",
        "            )\n",
        "\n",
        "    def create_interaction(self, user_id_1, user_id_2):\n",
        "        with self.driver.session() as session:\n",
        "            session.run(\n",
        "                \"MATCH (a:User {id: $user_id_1}), (b:User {id: $user_id_2}) MERGE (a)-[:INTERACTED_WITH]->(b)\",\n",
        "                user_id_1=user_id_1,\n",
        "                user_id_2=user_id_2\n",
        "            )\n",
        "\n",
        "    def detect_clusters(self):\n",
        "        with self.driver.session() as session:\n",
        "            result = session.run(\n",
        "                \"CALL gds.graph.project('userGraph', 'User', 'INTERACTED_WITH') YIELD graphName \"\n",
        "                \"CALL gds.louvain.stream('userGraph') YIELD nodeId, communityId \"\n",
        "                \"RETURN communityId, count(nodeId) as size ORDER BY size DESC\"\n",
        "            )\n",
        "            return [(record['communityId'], record['size']) for record in result]\n"
      ],
      "metadata": {
        "id": "gVfusDdDSqyD"
      },
      "execution_count": null,
      "outputs": []
    },
    {
      "cell_type": "code",
      "source": [
        "# -------------------------------------- anomaly_detection.py -------------------------------\n",
        "from sklearn.ensemble import IsolationForest\n",
        "\n",
        "class AnomalyDetector:\n",
        "    def __init__(self):\n",
        "        self.model = IsolationForest(contamination=0.02)\n",
        "\n",
        "    def train(self, feature_vectors):\n",
        "        self.model.fit(feature_vectors)\n",
        "\n",
        "    def predict(self, feature_vectors):\n",
        "        return self.model.predict(feature_vectors)\n",
        "\n",
        "# -------------------------------------- honeypot.py --------------------------------------\n",
        "from config import HONEYPOT_SECRET_URLS\n",
        "\n",
        "def is_honeypot_triggered(request_path):\n",
        "    return request_path in HONEYPOT_SECRET_URLS\n",
        "\n"
      ],
      "metadata": {
        "id": "3fi-6fhpSybn"
      },
      "execution_count": null,
      "outputs": []
    },
    {
      "cell_type": "code",
      "source": [
        "# ----------------------------------------- main.py --------------------------------------------\n",
        "from geo_enrichment import enrich_ip\n",
        "from behavior_analysis import detect_impossible_travel\n",
        "from graph_analysis import GraphManager\n",
        "from honeypot import is_honeypot_triggered\n",
        "from anomaly_detection import AnomalyDetector\n",
        "from datetime import datetime, timedelta\n",
        "\n",
        "def simulate_geo_watch():\n",
        "    user_sessions = [\n",
        "        {'timestamp': datetime.utcnow(), 'location': enrich_ip('8.8.8.8')},\n",
        "        {'timestamp': datetime.utcnow() + timedelta(hours=1), 'location': enrich_ip('5.5.5.5')}\n",
        "    ]\n",
        "\n",
        "    if detect_impossible_travel(user_sessions):\n",
        "        print(\"[ALERT] Impossible travel detected!\")\n",
        "\n",
        "    graph = GraphManager()\n",
        "    graph.create_user_node(\"user123\", user_sessions[0]['location'])\n",
        "    graph.create_user_node(\"user456\", user_sessions[1]['location'])\n",
        "    graph.create_interaction(\"user123\", \"user456\")\n",
        "    clusters = graph.detect_clusters()\n",
        "    print(f\"Detected Clusters: {clusters}\")\n",
        "    graph.close()\n",
        "\n",
        "    if is_honeypot_triggered(\"/free-gift\"):\n",
        "        print(\"[ALERT] Honeypot triggered!\")\n",
        "\n",
        "    features = [[0.5, 1.2], [0.6, 1.1], [50.5, 60.2]]\n",
        "    detector = AnomalyDetector()\n",
        "    detector.train(features)\n",
        "    predictions = detector.predict(features)\n",
        "    print(f\"Anomaly Predictions: {predictions}\")\n",
        "\n",
        "if __name__ == \"__main__\":\n",
        "    simulate_geo_watch()\n"
      ],
      "metadata": {
        "id": "Qsg-YG4hS-CF"
      },
      "execution_count": null,
      "outputs": []
    }
  ]
}